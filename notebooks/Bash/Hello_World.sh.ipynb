{
 "cells": [
  {
   "cell_type": "code",
   "execution_count": 1,
   "metadata": {
    "collapsed": true
   },
   "outputs": [],
   "source": [
    "export USER_NAME=\"Linux user\""
   ]
  },
  {
   "cell_type": "code",
   "execution_count": 2,
   "metadata": {
    "collapsed": true
   },
   "outputs": [],
   "source": [
    "export DATE=\"$(date +'%d/%m/%Y')\""
   ]
  },
  {
   "cell_type": "code",
   "execution_count": 3,
   "metadata": {},
   "outputs": [
    {
     "name": "stdout",
     "output_type": "stream",
     "text": [
      "Linux linuxdragon 4.9.0-3-amd64 #1 SMP Debian 4.9.30-2 (2017-06-12) x86_64 GNU/Linux\n"
     ]
    }
   ],
   "source": [
    "uname -a"
   ]
  },
  {
   "cell_type": "code",
   "execution_count": 4,
   "metadata": {},
   "outputs": [
    {
     "name": "stdout",
     "output_type": "stream",
     "text": [
      "procs -----------memory---------- ---swap-- -----io---- -system-- ------cpu-----\n",
      " r  b   swpd   free   buff  cache   si   so    bi    bo   in   cs us sy id wa st\n",
      " 0  0  62888 2587472 433036 3749588    0    0    64   447  100   89 18  4 77  0  0\n"
     ]
    }
   ],
   "source": [
    "vmstat"
   ]
  },
  {
   "cell_type": "code",
   "execution_count": 5,
   "metadata": {},
   "outputs": [
    {
     "name": "stdout",
     "output_type": "stream",
     "text": [
      "Filesystem                         Size  Used Avail Use% Mounted on\n",
      "udev                               3.9G     0  3.9G   0% /dev\n",
      "tmpfs                              790M   50M  741M   7% /run\n",
      "/dev/mapper/linuxdragon--vg-linux   46G   16G   28G  37% /\n",
      "tmpfs                              3.9G     0  3.9G   0% /dev/shm\n",
      "tmpfs                              5.0M  4.0K  5.0M   1% /run/lock\n",
      "tmpfs                              3.9G     0  3.9G   0% /sys/fs/cgroup\n",
      "/dev/mapper/linuxdragon--vg-opt     29G  7.7G   20G  29% /opt\n",
      "/dev/mapper/linuxdragon--vg-home   190G  122G   60G  68% /home\n",
      "/dev/mapper/linuxdragon--vg-var     47G   32G   14G  70% /var\n",
      "/dev/sda2                          237M  162M   63M  72% /boot\n",
      "tmpfs                              790M   36K  790M   1% /run/user/1000\n"
     ]
    }
   ],
   "source": [
    "df -h"
   ]
  },
  {
   "cell_type": "code",
   "execution_count": 6,
   "metadata": {},
   "outputs": [
    {
     "name": "stdout",
     "output_type": "stream",
     "text": [
      "Hello, Linux user, today is 25/06/2017.\n"
     ]
    }
   ],
   "source": [
    "echo \"Hello, $USER_NAME, today is $DATE.\""
   ]
  },
  {
   "cell_type": "code",
   "execution_count": null,
   "metadata": {
    "collapsed": true
   },
   "outputs": [],
   "source": []
  }
 ],
 "metadata": {
  "kernelspec": {
   "display_name": "Bash",
   "language": "bash",
   "name": "bash-lang"
  },
  "language_info": {
   "codemirror_mode": "shell",
   "file_extension": ".sh",
   "mimetype": "text/x-sh",
   "name": "bash"
  }
 },
 "nbformat": 4,
 "nbformat_minor": 2
}
